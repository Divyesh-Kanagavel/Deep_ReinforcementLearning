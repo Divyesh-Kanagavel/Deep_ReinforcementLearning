{
  "nbformat": 4,
  "nbformat_minor": 0,
  "metadata": {
    "colab": {
      "provenance": []
    },
    "kernelspec": {
      "name": "python3",
      "display_name": "Python 3"
    },
    "language_info": {
      "name": "python"
    }
  },
  "cells": [
    {
      "cell_type": "code",
      "execution_count": 120,
      "metadata": {
        "colab": {
          "base_uri": "https://localhost:8080/"
        },
        "id": "sThmitSliMVh",
        "outputId": "9207a7d6-d319-41c2-801d-d7275c260a0b"
      },
      "outputs": [
        {
          "output_type": "stream",
          "name": "stdout",
          "text": [
            "Requirement already satisfied: tensorboardX in /usr/local/lib/python3.11/dist-packages (2.6.2.2)\n",
            "Requirement already satisfied: numpy in /usr/local/lib/python3.11/dist-packages (from tensorboardX) (1.26.4)\n",
            "Requirement already satisfied: packaging in /usr/local/lib/python3.11/dist-packages (from tensorboardX) (24.2)\n",
            "Requirement already satisfied: protobuf>=3.20 in /usr/local/lib/python3.11/dist-packages (from tensorboardX) (4.25.6)\n"
          ]
        }
      ],
      "source": [
        "!pip install tensorboardX"
      ]
    },
    {
      "cell_type": "code",
      "source": [
        "import collections\n",
        "import gymnasium as gym\n",
        "from tensorboardX import SummaryWriter"
      ],
      "metadata": {
        "id": "hJPv1VLDik1-"
      },
      "execution_count": 121,
      "outputs": []
    },
    {
      "cell_type": "code",
      "source": [
        "ENV_NAME = \"FrozenLake-v1\"\n",
        "GAMMA = 0.9\n",
        "NUM_RANDOM_STEPS = 100\n",
        "TEST_EPISODES = 20"
      ],
      "metadata": {
        "id": "qdQXQ4pOidyg"
      },
      "execution_count": 127,
      "outputs": []
    },
    {
      "cell_type": "code",
      "source": [
        "class Agent:\n",
        "    def __init__(self):\n",
        "        self.env = gym.make(ENV_NAME)\n",
        "        self.state,_= self.env.reset()\n",
        "        # defaultdict initializes with default values\n",
        "        self.rewards = collections.defaultdict(float)\n",
        "        # Counter sub class creates a dict with counters of iterables\n",
        "        self.transits = collections.defaultdict(collections.Counter)\n",
        "        # Values for each state are contained in this dict\n",
        "        self.values = collections.defaultdict(float)\n",
        "\n",
        "    # play random steps to populate the reward and transition matrix dictionaries\n",
        "    def play_n_random_steps(self, count):\n",
        "        for _ in range(count):\n",
        "            # sample an action from action space\n",
        "            action = self.env.action_space.sample()\n",
        "            new_state, reward, is_done, _,_ = self.env.step(action)\n",
        "            # update the reward\n",
        "            self.rewards[(self.state, action, new_state)] = reward\n",
        "            # increase the counter of action,state pair in transition matrix\n",
        "            self.transits[(self.state, action)][new_state] += 1\n",
        "            self.state = self.env.reset()[0] if is_done else new_state\n",
        "\n",
        "    def calc_action_value(self, state, action):\n",
        "        # computation of transition probabilities from the individual counters\n",
        "        target_counts = self.transits[(state, action)]\n",
        "        total = sum(target_counts.values())\n",
        "        action_value = 0.0\n",
        "        for tgt_state, count in target_counts.items():\n",
        "            reward = self.rewards[(state, action, tgt_state)]\n",
        "            # Bellman value iteration update\n",
        "            action_value += (count / total) * (reward + GAMMA * self.values[tgt_state])\n",
        "        return action_value\n",
        "\n",
        "    def select_action(self, state):\n",
        "        # Select the action which produces maximum value for a given state\n",
        "        best_action, best_value = None, None\n",
        "        for action in range(self.env.action_space.n):\n",
        "            action_value = self.calc_action_value(state, action)\n",
        "            if best_value is None or best_value < action_value:\n",
        "                best_value = action_value\n",
        "                best_action = action\n",
        "        return best_action\n",
        "\n",
        "    def play_episode(self, env):\n",
        "        total_reward = 0.0\n",
        "        state, _ = env.reset()\n",
        "        #play an episode till it is done i.e reached goal or fell inside hole\n",
        "        while True:\n",
        "            action = self.select_action(state)\n",
        "            new_state, reward, is_done, _,_ = env.step(action)\n",
        "            self.rewards[(state, action, new_state)] = reward\n",
        "            self.transits[(state, action)][new_state] += 1\n",
        "            total_reward += reward\n",
        "            if is_done:\n",
        "                break\n",
        "            state = new_state\n",
        "        return total_reward\n",
        "    # update the values for each state with max of the possible state values\n",
        "    def value_iteration(self):\n",
        "        for state in range(self.env.observation_space.n):\n",
        "            state_values = [self.calc_action_value(state, action)\n",
        "                            for action in range(self.env.action_space.n)]\n",
        "            self.values[state] = max(state_values)\n",
        ""
      ],
      "metadata": {
        "id": "t5sZ4JTYiw7I"
      },
      "execution_count": 128,
      "outputs": []
    },
    {
      "cell_type": "code",
      "source": [
        "    test_env = gym.make(ENV_NAME)\n",
        "    agent = Agent()\n",
        "    rewards = []\n",
        "\n",
        "    iter_no = 0\n",
        "    best_reward = 0.0\n",
        "    while True:\n",
        "        iter_no += 1\n",
        "        agent.play_n_random_steps(NUM_RANDOM_STEPS)\n",
        "        agent.value_iteration()\n",
        "\n",
        "        reward = 0.0\n",
        "        for _ in range(TEST_EPISODES):\n",
        "            reward += agent.play_episode(test_env)\n",
        "        reward /= TEST_EPISODES\n",
        "        rewards.append(reward)\n",
        "        if reward > best_reward:\n",
        "            print(\"Best reward updated %.3f -> %.3f\" % (best_reward, reward))\n",
        "            best_reward = reward\n",
        "        if reward > 0.80:\n",
        "            print(\"Solved in %d iterations!\" % iter_no)\n",
        "            break\n"
      ],
      "metadata": {
        "colab": {
          "base_uri": "https://localhost:8080/"
        },
        "id": "zkmuFRKLsaZX",
        "outputId": "3e216aeb-11b3-41f2-f997-b7d3fad7e8ed"
      },
      "execution_count": 129,
      "outputs": [
        {
          "output_type": "stream",
          "name": "stdout",
          "text": [
            "Best reward updated 0.000 -> 0.400\n",
            "Best reward updated 0.400 -> 0.600\n",
            "Best reward updated 0.600 -> 0.800\n",
            "Best reward updated 0.800 -> 0.900\n",
            "Solved in 14 iterations!\n"
          ]
        }
      ]
    },
    {
      "cell_type": "code",
      "source": [
        "best_reward"
      ],
      "metadata": {
        "colab": {
          "base_uri": "https://localhost:8080/"
        },
        "id": "Qh9eIMXj4CWd",
        "outputId": "01c64bf4-cb93-48ad-d153-06135782e5d0"
      },
      "execution_count": 130,
      "outputs": [
        {
          "output_type": "execute_result",
          "data": {
            "text/plain": [
              "0.9"
            ]
          },
          "metadata": {},
          "execution_count": 130
        }
      ]
    },
    {
      "cell_type": "code",
      "source": [
        "import matplotlib.pyplot as plt\n",
        "plt.plot(rewards)\n",
        "plt.show()"
      ],
      "metadata": {
        "colab": {
          "base_uri": "https://localhost:8080/",
          "height": 430
        },
        "id": "DY-XHS0f4DQN",
        "outputId": "ca1d1619-ae8e-433e-d96f-5d9bf61c453f"
      },
      "execution_count": 131,
      "outputs": [
        {
          "output_type": "display_data",
          "data": {
            "text/plain": [
              "<Figure size 640x480 with 1 Axes>"
            ],
            "image/png": "[encoded data removed]"
          },
          "metadata": {}
        }
      ]
    },
    {
      "cell_type": "markdown",
      "source": [
        "We have solved the problem using the value table approach. We will now solve the problem using Q-table approach. Fundamentally both are same with similar computational complexity, but the Q-table approach is more intuitive. Instead of just storing the values for each state in value table, we now store values for state,action pair and use these to drive the agent to get maximum rewards"
      ],
      "metadata": {
        "id": "0CQzztl8-k2s"
      }
    },
    {
      "cell_type": "code",
      "source": [
        "class Agent:\n",
        "    def __init__(self):\n",
        "        self.env = gym.make(ENV_NAME)\n",
        "        self.state,_= self.env.reset()\n",
        "        # defaultdict initializes with default values\n",
        "        self.rewards = collections.defaultdict(float)\n",
        "        # Counter sub class creates a dict with counters of iterables\n",
        "        self.transits = collections.defaultdict(collections.Counter)\n",
        "        # Values for each state are contained in this dict\n",
        "        self.values = collections.defaultdict(float)\n",
        "\n",
        "    # play random steps to populate the reward and transition matrix dictionaries\n",
        "    def play_n_random_steps(self, count):\n",
        "        for _ in range(count):\n",
        "            # sample an action from action space\n",
        "            action = self.env.action_space.sample()\n",
        "            new_state, reward, is_done, _,_ = self.env.step(action)\n",
        "            # update the reward\n",
        "            self.rewards[(self.state, action, new_state)] = reward\n",
        "            # increase the counter of action,state pair in transition matrix\n",
        "            self.transits[(self.state, action)][new_state] += 1\n",
        "            self.state = self.env.reset()[0] if is_done else new_state\n",
        "\n",
        "    def select_action(self, state):\n",
        "        # Select the action which produces maximum value for a given state\n",
        "        best_action, best_value = None, None\n",
        "        for action in range(self.env.action_space.n):\n",
        "            action_value = self.values[(state,action)]\n",
        "            if best_value is None or best_value < action_value:\n",
        "                best_value = action_value\n",
        "                best_action = action\n",
        "        return best_action\n",
        "\n",
        "    def play_episode(self, env):\n",
        "        total_reward = 0.0\n",
        "        state, _ = env.reset()\n",
        "        #play an episode till it is done i.e reached goal or fell inside hole\n",
        "        while True:\n",
        "            action = self.select_action(state)\n",
        "            new_state, reward, is_done, _,_ = env.step(action)\n",
        "            self.rewards[(state, action, new_state)] = reward\n",
        "            self.transits[(state, action)][new_state] += 1\n",
        "            total_reward += reward\n",
        "            if is_done:\n",
        "                break\n",
        "            state = new_state\n",
        "        return total_reward\n",
        "\n",
        "    # update the values for each (state, action)\n",
        "    def value_iteration(self):\n",
        "        for state in range(self.env.observation_space.n):\n",
        "          for action in range(self.env.action_space.n):\n",
        "            action_value = 0.0\n",
        "            target_counts = self.transits[(state, action)]\n",
        "            total_count = sum(target_counts.values())\n",
        "            for tgt_state, count in target_counts.items():\n",
        "              rwd_key = (state, action, tgt_state)\n",
        "              reward = self.rewards[rwd_key]\n",
        "              best_action = self.select_action(tgt_state)\n",
        "              action_value += (count / total_count) * (reward + GAMMA * self.values[(tgt_state, best_action)])\n",
        "            self.values[(state, action)] = action_value\n",
        "\n",
        "\n"
      ],
      "metadata": {
        "id": "-y_L9-7R4JT6"
      },
      "execution_count": 132,
      "outputs": []
    },
    {
      "cell_type": "code",
      "source": [
        "    test_env = gym.make(ENV_NAME)\n",
        "    agent = Agent()\n",
        "    rewards = []\n",
        "\n",
        "    iter_no = 0\n",
        "    best_reward = 0.0\n",
        "    while True:\n",
        "        iter_no += 1\n",
        "        agent.play_n_random_steps(NUM_RANDOM_STEPS)\n",
        "        agent.value_iteration()\n",
        "\n",
        "        reward = 0.0\n",
        "        for _ in range(TEST_EPISODES):\n",
        "            reward += agent.play_episode(test_env)\n",
        "        reward /= TEST_EPISODES\n",
        "        rewards.append(reward)\n",
        "        if reward > best_reward:\n",
        "            print(\"Best reward updated %.3f -> %.3f\" % (best_reward, reward))\n",
        "            best_reward = reward\n",
        "        if reward > 0.80:\n",
        "            print(\"Solved in %d iterations!\" % iter_no)\n",
        "            break"
      ],
      "metadata": {
        "colab": {
          "base_uri": "https://localhost:8080/"
        },
        "id": "_KbwFma3HM2H",
        "outputId": "d290fcd7-d3f8-41e3-f125-27ff6c11a6a6"
      },
      "execution_count": 133,
      "outputs": [
        {
          "output_type": "stream",
          "name": "stdout",
          "text": [
            "Best reward updated 0.000 -> 0.650\n",
            "Best reward updated 0.650 -> 0.900\n",
            "Solved in 16 iterations!\n"
          ]
        }
      ]
    }
  ]
}